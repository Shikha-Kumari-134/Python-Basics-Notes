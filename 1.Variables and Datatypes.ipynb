{
 "cells": [
  {
   "cell_type": "markdown",
   "id": "706124b1",
   "metadata": {},
   "source": [
    "# Variables and Datatypes"
   ]
  },
  {
   "cell_type": "markdown",
   "id": "02652271",
   "metadata": {},
   "source": [
    "## Variables\n",
    "\n",
    "Variables in python as the name suggests are the values that vary. In a prograaming language, a variable is a memory location where you store a value.\n",
    "The value that you have stored may change in the future according to the specifications.\n",
    "\n",
    "A Python Variable is created as soon as a value is assigned to it. It does not need any additional commands to declare a variable in python.\n",
    "\n"
   ]
  },
  {
   "cell_type": "markdown",
   "id": "0ff53284",
   "metadata": {},
   "source": [
    "Let's take a look at the variable definition and declaration to understand how we declare a variable in python."
   ]
  },
  {
   "cell_type": "markdown",
   "id": "fb1ca163",
   "metadata": {},
   "source": [
    "### Variable Definition & Declaration\n",
    "Python has no additional commands to declare a variable. As soon as the value is assigned to it, the variable is declared."
   ]
  },
  {
   "cell_type": "code",
   "execution_count": 1,
   "id": "88f4dd30",
   "metadata": {},
   "outputs": [],
   "source": [
    "a=14\n",
    "#Variable a is created as soon as we assign the value 14 to it."
   ]
  },
  {
   "cell_type": "code",
   "execution_count": 2,
   "id": "fbc02a7e",
   "metadata": {},
   "outputs": [
    {
     "name": "stdout",
     "output_type": "stream",
     "text": [
      "14\n"
     ]
    }
   ],
   "source": [
    "print(a)"
   ]
  },
  {
   "cell_type": "markdown",
   "id": "b2a07a0b",
   "metadata": {},
   "source": [
    "There are certain rules that we need to keep in mind while declaring a variable: \n",
    "\n",
    "1. The variable name cannot start with a number.\n",
    "2. It can only start with a character or an underscore.\n",
    "3. Variables in python are case sensitive\n",
    "4. They can only contain alpha-numeric characters and underscores.\n",
    "5. No special characters are allowed."
   ]
  },
  {
   "cell_type": "markdown",
   "id": "f0716180",
   "metadata": {},
   "source": [
    "Every value that we declare in python has a data type.\n",
    "\"Data types are classes and variables are the instances of these classes.\"\n",
    "Relax, CLasses and Objects are something we'll cover in the upcoming notes, for now just remember the words.\n",
    "\n",
    "There are several data types in python. Let's take a look at them.\n"
   ]
  },
  {
   "cell_type": "markdown",
   "id": "653d3727",
   "metadata": {},
   "source": [
    "## Data Types"
   ]
  },
  {
   "cell_type": "markdown",
   "id": "b37d9a61",
   "metadata": {},
   "source": [
    "Python Data types are the classification or categorization of data items. It represents the kind of value that tells what operations can be performed on a particular data.\n",
    "\n",
    "The following are the standard or built-in data types in Python:\n",
    "1. Numeric\n",
    "2. Sequence Type\n",
    "3. Boolean\n",
    "4. Set\n",
    "5. Dictionary\n",
    "6. Binary Types"
   ]
  },
  {
   "cell_type": "markdown",
   "id": "289665c3",
   "metadata": {},
   "source": [
    "To define the values of various data types of Python and check their data types we use the type() function.\n",
    "\n",
    "Consider the following example: "
   ]
  },
  {
   "cell_type": "code",
   "execution_count": 3,
   "id": "ebbd53b3",
   "metadata": {},
   "outputs": [
    {
     "name": "stdout",
     "output_type": "stream",
     "text": [
      "Python is Good\n",
      "Type of a:  <class 'str'>\n"
     ]
    }
   ],
   "source": [
    "a= \"Python is Good\" #String\n",
    "print(a)\n",
    "print(\"Type of a: \", type(a))"
   ]
  },
  {
   "cell_type": "code",
   "execution_count": 4,
   "id": "6205348c",
   "metadata": {},
   "outputs": [
    {
     "name": "stdout",
     "output_type": "stream",
     "text": [
      "10\n",
      "Type of a:  <class 'int'>\n"
     ]
    }
   ],
   "source": [
    "a= 10 #integer\n",
    "print(a)\n",
    "print(\"Type of a: \", type(a))"
   ]
  },
  {
   "cell_type": "code",
   "execution_count": 5,
   "id": "ca89bcee",
   "metadata": {},
   "outputs": [
    {
     "name": "stdout",
     "output_type": "stream",
     "text": [
      "20.5\n",
      "Type of a:  <class 'float'>\n"
     ]
    }
   ],
   "source": [
    "a= 20.5 #float\n",
    "print(a)\n",
    "print(\"Type of a: \", type(a))"
   ]
  },
  {
   "cell_type": "code",
   "execution_count": 6,
   "id": "896d86c9",
   "metadata": {},
   "outputs": [
    {
     "name": "stdout",
     "output_type": "stream",
     "text": [
      "3j\n",
      "Type of a:  <class 'complex'>\n"
     ]
    }
   ],
   "source": [
    "a= 3j  #Complex\n",
    "print(a)\n",
    "print(\"Type of a: \", type(a))"
   ]
  },
  {
   "cell_type": "code",
   "execution_count": 7,
   "id": "5a71c253",
   "metadata": {},
   "outputs": [
    {
     "name": "stdout",
     "output_type": "stream",
     "text": [
      "['Python', 'is', 'Good']\n",
      "Type of a:  <class 'list'>\n"
     ]
    }
   ],
   "source": [
    "a= [\"Python\", \"is\", \"Good\"] #list\n",
    "print(a)\n",
    "print(\"Type of a: \", type(a))"
   ]
  },
  {
   "cell_type": "code",
   "execution_count": 8,
   "id": "dc86413b",
   "metadata": {},
   "outputs": [
    {
     "name": "stdout",
     "output_type": "stream",
     "text": [
      "('Python', 'is', 'Good')\n",
      "Type of a:  <class 'tuple'>\n"
     ]
    }
   ],
   "source": [
    "a= (\"Python\", \"is\", \"Good\") #tuple\n",
    "print(a)\n",
    "print(\"Type of a: \", type(a))"
   ]
  },
  {
   "cell_type": "code",
   "execution_count": 9,
   "id": "fa39ebb1",
   "metadata": {},
   "outputs": [
    {
     "name": "stdout",
     "output_type": "stream",
     "text": [
      "range(0, 10)\n",
      "Type of a:  <class 'range'>\n"
     ]
    }
   ],
   "source": [
    "a= range(10) #range\n",
    "print(a)\n",
    "print(\"Type of a: \", type(a))"
   ]
  },
  {
   "cell_type": "code",
   "execution_count": 10,
   "id": "7b158b40",
   "metadata": {},
   "outputs": [
    {
     "name": "stdout",
     "output_type": "stream",
     "text": [
      "{'name': 'Shikha', 'age': 26}\n",
      "Type of a:  <class 'dict'>\n"
     ]
    }
   ],
   "source": [
    "a={\"name\" :\"Shikha\", \"age\" :26}  #Dictionary\n",
    "print(a)\n",
    "print(\"Type of a: \", type(a))"
   ]
  },
  {
   "cell_type": "code",
   "execution_count": 11,
   "id": "ac6b5913",
   "metadata": {},
   "outputs": [
    {
     "name": "stdout",
     "output_type": "stream",
     "text": [
      "{'Good', 'Python', 'is'}\n",
      "Type of a:  <class 'set'>\n"
     ]
    }
   ],
   "source": [
    "a={\"Python\",\"is\",\"Good\"} #set\n",
    "print(a)\n",
    "print(\"Type of a: \", type(a))"
   ]
  },
  {
   "cell_type": "code",
   "execution_count": 12,
   "id": "0f7c8ec2",
   "metadata": {},
   "outputs": [
    {
     "name": "stdout",
     "output_type": "stream",
     "text": [
      "True\n",
      "Type of a:  <class 'bool'>\n"
     ]
    }
   ],
   "source": [
    "a= True  #Boolean\n",
    "print(a)\n",
    "print(\"Type of a: \", type(a))"
   ]
  },
  {
   "cell_type": "code",
   "execution_count": 13,
   "id": "0fe83027",
   "metadata": {},
   "outputs": [
    {
     "name": "stdout",
     "output_type": "stream",
     "text": [
      "None\n",
      "Type of a:  <class 'NoneType'>\n"
     ]
    }
   ],
   "source": [
    "a= None   #NoneType\n",
    "print(a)\n",
    "print(\"Type of a: \", type(a))"
   ]
  },
  {
   "cell_type": "markdown",
   "id": "2aa41b80",
   "metadata": {},
   "source": [
    "This above code snippets assigns variable ‘a’ different values of various Python data types. It covers string, integer, float, complex, list, tuple, range, dictionary, set and the special value ‘None’ successively. Each assignment replaces the previous value, making ‘a’ take on the data type and value of the most recent assignment."
   ]
  },
  {
   "cell_type": "markdown",
   "id": "8da2a068",
   "metadata": {},
   "source": [
    "## Summary\n",
    "Understanding variables and data types is fundamental to mastering Python programming. Variables allow you to store and manipulate data, and understanding the different data types helps you choose the right kind of data storage for your needs.\n",
    "\n",
    "> Variables are memory locations that store values. They are created as soon as a value is assigned and can hold various data types.\n",
    "\n",
    "> Data Types in Python include numeric types (integers, floats, complex), sequence types (strings, lists, tuples, ranges), sets, dictionaries, boolean, and the special NoneType.\n",
    "\n",
    "Knowing these basic building blocks is crucial as they form the foundation for more complex programming concepts and structures."
   ]
  },
  {
   "cell_type": "markdown",
   "id": "c144bbbe",
   "metadata": {},
   "source": [
    "### Importance of Variables and Data Types\n",
    "1. Data Storage: Properly using variables and data types ensures efficient data storage and manipulation.\n",
    "2. Code Clarity: Using appropriate variable names and data types makes your code more readable and maintainable.\n",
    "3. Error Reduction: Understanding data types helps in preventing type errors during operations.\n"
   ]
  },
  {
   "cell_type": "markdown",
   "id": "f24c6f65",
   "metadata": {},
   "source": [
    "### Practice and Next Steps\n",
    "To solidify your understanding, try practicing the following exercises:\n",
    "\n",
    "1. Variable Operations: Experiment with different operations on variables of various data types.\n",
    "2. Data Type Conversions: Practice converting between different data types.\n",
    "3. Complex Data Structures: Create more complex data structures like lists of dictionaries or dictionaries of lists."
   ]
  },
  {
   "cell_type": "markdown",
   "id": "095b40e3",
   "metadata": {},
   "source": [
    "### Contact and Support\n",
    "If you have any questions or need further assistance, feel free to reach out to me at shikhakumari13498@gmail.com. \n",
    "\n",
    "I’m here to help and guide you through your learning process.\n",
    "\n",
    "Happy coding!"
   ]
  }
 ],
 "metadata": {
  "kernelspec": {
   "display_name": "Python 3 (ipykernel)",
   "language": "python",
   "name": "python3"
  },
  "language_info": {
   "codemirror_mode": {
    "name": "ipython",
    "version": 3
   },
   "file_extension": ".py",
   "mimetype": "text/x-python",
   "name": "python",
   "nbconvert_exporter": "python",
   "pygments_lexer": "ipython3",
   "version": "3.9.13"
  }
 },
 "nbformat": 4,
 "nbformat_minor": 5
}
