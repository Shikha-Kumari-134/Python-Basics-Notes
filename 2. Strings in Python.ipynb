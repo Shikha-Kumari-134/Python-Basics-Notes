{
 "cells": [
  {
   "cell_type": "markdown",
   "id": "7d179fb7",
   "metadata": {},
   "source": [
    "# Strings in Python"
   ]
  },
  {
   "cell_type": "markdown",
   "id": "482fc30c",
   "metadata": {},
   "source": [
    "A String is a data structure in Python Programming that represents a sequence of characters. It is an immutable data type, meaning that once you have created a string, you cannot change it. Python String are used widely in many different applications, such as storing and manipulating text data, representing names, addresses, and other types of data that can be represented as text."
   ]
  },
  {
   "cell_type": "markdown",
   "id": "ca77de46",
   "metadata": {},
   "source": [
    "Python Programming does not have a character data type, a single character is simply a string with a length of 1.\n",
    "\n",
    "Let's see the syntax of string:\n",
    "\n",
    "string_variable= \"Hello, World!\""
   ]
  },
  {
   "cell_type": "code",
   "execution_count": 1,
   "id": "8955cd3f",
   "metadata": {},
   "outputs": [
    {
     "name": "stdout",
     "output_type": "stream",
     "text": [
      "My Name is Shikha, Learning Python is Fun!\n",
      "Type of my_string is : <class 'str'>\n"
     ]
    }
   ],
   "source": [
    "#Example\n",
    "\n",
    "my_string=\"My Name is Shikha, Learning Python is Fun!\"\n",
    "print(my_string)\n",
    "print(\"Type of my_string is :\", type(my_string))"
   ]
  },
  {
   "cell_type": "markdown",
   "id": "42e3de80",
   "metadata": {},
   "source": [
    "## Create a string in Python\n",
    "\n",
    "Strings in Python can be created using single quotes or double quotes or even triple quotes. Let us see how we can define a string in Python or how to write string in Python."
   ]
  },
  {
   "cell_type": "markdown",
   "id": "78fddbdb",
   "metadata": {},
   "source": [
    "In this example,\n",
    "\n",
    "we will demonstrate different ways to create a Python String. We will create a string using single quotes (‘ ‘), double quotes (” “), and triple double quotes (“”” “””). \n",
    "\n",
    "The triple quotes can be used to declare multiline strings in Python."
   ]
  },
  {
   "cell_type": "code",
   "execution_count": 2,
   "id": "b6796b8b",
   "metadata": {},
   "outputs": [
    {
     "name": "stdout",
     "output_type": "stream",
     "text": [
      "String with the use of Single Quotes: \n",
      "Welcome to the Python World\n"
     ]
    }
   ],
   "source": [
    "# Creating a String\n",
    "# with single Quotes\n",
    "String1 = 'Welcome to the Python World'\n",
    "print(\"String with the use of Single Quotes: \")\n",
    "print(String1)"
   ]
  },
  {
   "cell_type": "code",
   "execution_count": 3,
   "id": "b4179ff9",
   "metadata": {},
   "outputs": [
    {
     "name": "stdout",
     "output_type": "stream",
     "text": [
      "String with the use of Double Quotes: \n",
      "My Name is Shikha\n"
     ]
    }
   ],
   "source": [
    "# Creating a String\n",
    "# with double Quotes\n",
    "String1 = \"My Name is Shikha\"\n",
    "print(\"String with the use of Double Quotes: \")\n",
    "print(String1)"
   ]
  },
  {
   "cell_type": "code",
   "execution_count": 4,
   "id": "246b2432",
   "metadata": {},
   "outputs": [
    {
     "name": "stdout",
     "output_type": "stream",
     "text": [
      "String with the use of Triple Quotes: \n",
      "My Name is \"Shikha Kumari\"\n"
     ]
    }
   ],
   "source": [
    "# Creating a String\n",
    "# with triple Quotes\n",
    "String1 = '''My Name is \"Shikha Kumari\"'''\n",
    "print(\"String with the use of Triple Quotes: \")\n",
    "print(String1)"
   ]
  },
  {
   "cell_type": "code",
   "execution_count": 5,
   "id": "ae209de4",
   "metadata": {},
   "outputs": [
    {
     "name": "stdout",
     "output_type": "stream",
     "text": [
      "Creating a multiline String: \n",
      "Python\n",
      "is\n",
      "FUN!\n"
     ]
    }
   ],
   "source": [
    "# Creating String with triple\n",
    "# Quotes allows multiple lines\n",
    "String1 = '''Python\n",
    "is\n",
    "FUN!'''\n",
    "print(\"Creating a multiline String: \")\n",
    "print(String1)"
   ]
  },
  {
   "cell_type": "markdown",
   "id": "f2aaffca",
   "metadata": {},
   "source": [
    "## Accessing characters in Python String\n",
    "\n",
    "In Python Programming tutorials, individual characters of a String can be accessed by using the method of Indexing. Indexing allows negative address references to access characters from the back of the String, e.g. -1 refers to the last character, -2 refers to the second last character, and so on. \n",
    "\n",
    "While accessing an index out of the range will cause an IndexError. Only Integers are allowed to be passed as an index, float or other types that will cause a TypeError."
   ]
  },
  {
   "cell_type": "markdown",
   "id": "711b21bd",
   "metadata": {},
   "source": [
    "### Python String Positive Indexing\n",
    "In this example, we will define a string in Python Programming and access its characters using positive indexing. The 0th element will be the first character of the string."
   ]
  },
  {
   "cell_type": "code",
   "execution_count": 6,
   "id": "59b7afb0",
   "metadata": {},
   "outputs": [
    {
     "name": "stdout",
     "output_type": "stream",
     "text": [
      "Initial string : My Name is Shikha, Learning Python is Fun!\n"
     ]
    }
   ],
   "source": [
    "my_string=\"My Name is Shikha, Learning Python is Fun!\"\n",
    "print(\"Initial string :\", my_string)"
   ]
  },
  {
   "cell_type": "code",
   "execution_count": 7,
   "id": "788c152a",
   "metadata": {},
   "outputs": [
    {
     "name": "stdout",
     "output_type": "stream",
     "text": [
      "First character of String is:  M\n"
     ]
    }
   ],
   "source": [
    "#Printing the first character\n",
    "print(\"First character of String is: \", my_string[0])"
   ]
  },
  {
   "cell_type": "markdown",
   "id": "c99559ed",
   "metadata": {},
   "source": [
    "### Python String Negative Indexing\n",
    "\n",
    "In this example, we will access its characters using negative indexing. The -3th element is the third last character of the string."
   ]
  },
  {
   "cell_type": "code",
   "execution_count": 8,
   "id": "4ec00512",
   "metadata": {},
   "outputs": [
    {
     "name": "stdout",
     "output_type": "stream",
     "text": [
      "Initial string : My Name is Shikha, Learning Python is Fun!\n"
     ]
    }
   ],
   "source": [
    "my_string=\"My Name is Shikha, Learning Python is Fun!\"\n",
    "print(\"Initial string :\", my_string)"
   ]
  },
  {
   "cell_type": "code",
   "execution_count": 9,
   "id": "95380685",
   "metadata": {},
   "outputs": [
    {
     "name": "stdout",
     "output_type": "stream",
     "text": [
      "3rd Last character of String is:  u\n"
     ]
    }
   ],
   "source": [
    "#Printing the 3rd last character\n",
    "print(\"3rd Last character of String is: \", my_string[-3])"
   ]
  },
  {
   "cell_type": "markdown",
   "id": "3d5051c8",
   "metadata": {},
   "source": [
    "## String Slicing\n",
    "\n",
    "In Python programming, the String Slicing method is used to access a range of characters in the String.\n",
    "\n",
    "Slicing a string is done by using a Slicing operator, i.e., a colon (:).\n"
   ]
  },
  {
   "cell_type": "markdown",
   "id": "8478ab95",
   "metadata": {},
   "source": [
    "One thing to keep in mind while using this method is that the string returned after slicing includes the character at the start index but not the character at the last index.\n",
    "\n",
    "In this example, we will use the string-slicing method to extract a substring of the original string. The [3:12] indicates that the string slicing will start from the 3rd index of the string to the 12th index, (12th character not including). We can also use negative indexing in string slicing."
   ]
  },
  {
   "cell_type": "code",
   "execution_count": 10,
   "id": "a500121a",
   "metadata": {},
   "outputs": [
    {
     "name": "stdout",
     "output_type": "stream",
     "text": [
      "Initial String: \n",
      "The Last Great American Dynasty\n"
     ]
    }
   ],
   "source": [
    "# Creating a String\n",
    "String1 = \"The Last Great American Dynasty\"\n",
    "print(\"Initial String: \")\n",
    "print(String1)"
   ]
  },
  {
   "cell_type": "code",
   "execution_count": 11,
   "id": "6b79a331",
   "metadata": {},
   "outputs": [
    {
     "name": "stdout",
     "output_type": "stream",
     "text": [
      "\n",
      "Slicing characters from 3-12: \n",
      " Last Gre\n"
     ]
    }
   ],
   "source": [
    "# Printing 3rd to 12th character\n",
    "print(\"\\nSlicing characters from 3-12: \")\n",
    "print(String1[3:12])"
   ]
  },
  {
   "cell_type": "code",
   "execution_count": 12,
   "id": "55e64ba4",
   "metadata": {},
   "outputs": [
    {
     "name": "stdout",
     "output_type": "stream",
     "text": [
      "\n",
      "Slicing characters between 3rd and 2nd last character: \n",
      " Last Great American Dynas\n"
     ]
    }
   ],
   "source": [
    "# Printing characters between\n",
    "# 3rd and 2nd last character\n",
    "print(\"\\nSlicing characters between \" +\n",
    "      \"3rd and 2nd last character: \")\n",
    "print(String1[3:-2])"
   ]
  },
  {
   "cell_type": "markdown",
   "id": "4f5423e1",
   "metadata": {},
   "source": [
    "### Python String Reversed\n",
    "In Python Programming tutorials, By accessing characters from a string, we can also reverse strings in Python Programming. We can Reverse a string by using String slicing method.\n",
    "\n",
    "In this example, we will reverse a string by accessing the index. We did not specify the first two parts of the slice indicating that we are considering the whole string, from the start index to the last index."
   ]
  },
  {
   "cell_type": "code",
   "execution_count": 13,
   "id": "ccc3c626",
   "metadata": {},
   "outputs": [
    {
     "name": "stdout",
     "output_type": "stream",
     "text": [
      "iramuKahkihS\n"
     ]
    }
   ],
   "source": [
    "#Program to reverse a string\n",
    "str=\"ShikhaKumari\"\n",
    "print(str[::-1])"
   ]
  },
  {
   "cell_type": "markdown",
   "id": "6d71556f",
   "metadata": {},
   "source": [
    "We can also reverse a string by using built-in join and reversed functions and passing the string as the parameter to the reverse() function."
   ]
  },
  {
   "cell_type": "code",
   "execution_count": 14,
   "id": "561d9a79",
   "metadata": {},
   "outputs": [
    {
     "name": "stdout",
     "output_type": "stream",
     "text": [
      "iramuKahkihS\n"
     ]
    }
   ],
   "source": [
    "#Program to reverse a string\n",
    "str=\"ShikhaKumari\"\n",
    "str=\"\".join(reversed(str))\n",
    "print(str)"
   ]
  },
  {
   "cell_type": "markdown",
   "id": "0cbedd6b",
   "metadata": {},
   "source": [
    "## Python String methods\n",
    "\n",
    "Python has a set of built-in methods that you can use on strings.\n",
    "\n",
    "Here is a table listing some common string methods in Python and their descriptions:\n",
    "\n",
    "| Method          | Description |\n",
    "|-----------------|-------------|\n",
    "| `capitalize()`  | Converts the first character to uppercase |\n",
    "| `casefold()`    | Converts string into lowercase |\n",
    "| `center(width)` | Returns a centered string of a specified width |\n",
    "| `count(sub)`    | Returns the number of times a specified value occurs in a string |\n",
    "| `encode()`      | Returns an encoded version of the string |\n",
    "| `endswith(suffix)` | Returns true if the string ends with the specified suffix |\n",
    "| `find(sub)`     | Searches the string for a specified value and returns the position of where it was found |\n",
    "| `format()`      | Formats specified values in a string |\n",
    "| `index(sub)`    | Searches the string for a specified value and returns the position of where it was found |\n",
    "| `isalnum()`     | Returns True if all characters in the string are alphanumeric |\n",
    "| `isalpha()`     | Returns True if all characters in the string are in the alphabet |\n",
    "| `isdigit()`     | Returns True if all characters in the string are digits |\n",
    "| `islower()`     | Returns True if all characters in the string are lowercase |\n",
    "| `isspace()`     | Returns True if all characters in the string are whitespaces |\n",
    "| `istitle()`     | Returns True if the string follows the rules of a title |\n",
    "| `isupper()`     | Returns True if all characters in the string are uppercase |\n",
    "| `join(iterable)`| Joins the elements of an iterable to the end of the string |\n",
    "| `lower()`       | Converts a string into lowercase |\n",
    "| `replace(old, new)` | Replaces a specified phrase with another specified phrase |\n",
    "| `split(sep)`    | Splits the string at the specified separator and returns a list |\n",
    "| `strip()`       | Removes any leading and trailing characters (space is the default) |\n",
    "| `upper()`       | Converts a string into uppercase |"
   ]
  },
  {
   "cell_type": "markdown",
   "id": "a833e81d",
   "metadata": {},
   "source": [
    "### Example\n",
    "\n",
    "Below is a python code example that demonstrates the usage of several string methods:"
   ]
  },
  {
   "cell_type": "code",
   "execution_count": 15,
   "id": "e4f06f4c",
   "metadata": {},
   "outputs": [
    {
     "name": "stdout",
     "output_type": "stream",
     "text": [
      "shikha kumari\n"
     ]
    }
   ],
   "source": [
    "#sample string\n",
    "text= \"shikha kumari\"\n",
    "print(text)"
   ]
  },
  {
   "cell_type": "code",
   "execution_count": 16,
   "id": "f4119de7",
   "metadata": {},
   "outputs": [
    {
     "name": "stdout",
     "output_type": "stream",
     "text": [
      "capitalize(): Shikha kumari\n"
     ]
    }
   ],
   "source": [
    "# 1. Capitalize\n",
    "cap = text.capitalize()\n",
    "print(\"capitalize():\", cap)"
   ]
  },
  {
   "cell_type": "code",
   "execution_count": 17,
   "id": "cec90d98",
   "metadata": {},
   "outputs": [
    {
     "name": "stdout",
     "output_type": "stream",
     "text": [
      "count('h'): 2\n"
     ]
    }
   ],
   "source": [
    "# 2. count(sub)\n",
    "count_h = text.count('h')\n",
    "print(\"count('h'):\", count_h)"
   ]
  },
  {
   "cell_type": "code",
   "execution_count": 18,
   "id": "5b5f8bb9",
   "metadata": {},
   "outputs": [
    {
     "name": "stdout",
     "output_type": "stream",
     "text": [
      "find('kumari'): 7\n"
     ]
    }
   ],
   "source": [
    "# 3. find(sub)\n",
    "find_word = text.find('kumari')\n",
    "print(\"find('kumari'):\", find_word)"
   ]
  },
  {
   "cell_type": "code",
   "execution_count": 19,
   "id": "22075780",
   "metadata": {},
   "outputs": [
    {
     "name": "stdout",
     "output_type": "stream",
     "text": [
      "join(['shikha', 'kumari']): shikha-kumari\n"
     ]
    }
   ],
   "source": [
    "# 4. join(iterable)\n",
    "join_text = '-'.join(['shikha', 'kumari'])\n",
    "print(\"join(['shikha', 'kumari']):\", join_text)"
   ]
  },
  {
   "cell_type": "code",
   "execution_count": 20,
   "id": "7fdb0302",
   "metadata": {},
   "outputs": [
    {
     "name": "stdout",
     "output_type": "stream",
     "text": [
      "split(' '): ['shikha', 'kumari']\n"
     ]
    }
   ],
   "source": [
    "# 6. split(sep)\n",
    "split_text = text.split(' ')\n",
    "print(\"split(' '):\", split_text) "
   ]
  },
  {
   "cell_type": "code",
   "execution_count": 21,
   "id": "35a65a2d",
   "metadata": {},
   "outputs": [
    {
     "name": "stdout",
     "output_type": "stream",
     "text": [
      "upper(): SHIKHA KUMARI\n"
     ]
    }
   ],
   "source": [
    "# 7. upper()\n",
    "upper_text = text.upper()\n",
    "print(\"upper():\", upper_text)"
   ]
  },
  {
   "cell_type": "code",
   "execution_count": 22,
   "id": "5e2345ac",
   "metadata": {},
   "outputs": [
    {
     "name": "stdout",
     "output_type": "stream",
     "text": [
      "lower(): shikha kumari\n"
     ]
    }
   ],
   "source": [
    "# 7. lower()\n",
    "lower_text = text.lower()\n",
    "print(\"lower():\", lower_text)"
   ]
  },
  {
   "cell_type": "markdown",
   "id": "9c0d9c9b",
   "metadata": {},
   "source": [
    "Feel free to experiment with these methods and explore more string operations to get a deeper understanding"
   ]
  },
  {
   "cell_type": "markdown",
   "id": "9a63b1b3",
   "metadata": {},
   "source": [
    "## Summary\n",
    "\n",
    "Strings are a fundamental data type in Python, used to represent text. They offer a variety of methods that enable efficient text manipulation and processing. Here are a few key points to remember:\n",
    "\n",
    "1. **Creation**: Strings can be created using single, double, or triple quotes. Triple quotes allow for multiline strings.\n",
    "2. **Immutability** : Strings in Python are immutable, meaning that once created, their content cannot be changed. However, new strings can be created based on operations performed on existing strings.\n",
    "3. **Indexing and Slicing** : You can access individual characters in a string using indexing and retrieve substrings using slicing.\n",
    "4. **Common Methods** : Python provides a rich set of built-in methods for strings, such as capitalize(), count(), find(), join(), replace(), split(), upper(), and many more, each designed to perform specific operations efficiently."
   ]
  },
  {
   "cell_type": "markdown",
   "id": "66de84b8",
   "metadata": {},
   "source": [
    "### Support\n",
    "\n",
    "If you have any questions or need further clarification, feel free to reach out via email at shikhakumari13498@gmail.com . \n",
    "\n",
    "\n",
    "**Happy learning!**"
   ]
  }
 ],
 "metadata": {
  "kernelspec": {
   "display_name": "Python 3 (ipykernel)",
   "language": "python",
   "name": "python3"
  },
  "language_info": {
   "codemirror_mode": {
    "name": "ipython",
    "version": 3
   },
   "file_extension": ".py",
   "mimetype": "text/x-python",
   "name": "python",
   "nbconvert_exporter": "python",
   "pygments_lexer": "ipython3",
   "version": "3.9.13"
  }
 },
 "nbformat": 4,
 "nbformat_minor": 5
}
