{
 "cells": [
  {
   "cell_type": "markdown",
   "id": "55710c7c",
   "metadata": {},
   "source": [
    "# Operators in Python"
   ]
  },
  {
   "cell_type": "markdown",
   "id": "a6b921f1",
   "metadata": {},
   "source": [
    "Operators in Python are special symbols used to perform operations on variables and values. They are classified into several categories based on the type of operation they perform."
   ]
  },
  {
   "cell_type": "markdown",
   "id": "7385b80b",
   "metadata": {},
   "source": [
    "In the example below, we use the + operator to add together two values:"
   ]
  },
  {
   "cell_type": "code",
   "execution_count": 1,
   "id": "d09abe59",
   "metadata": {},
   "outputs": [
    {
     "name": "stdout",
     "output_type": "stream",
     "text": [
      "15\n"
     ]
    }
   ],
   "source": [
    "print(10 + 5)"
   ]
  },
  {
   "cell_type": "markdown",
   "id": "870f1423",
   "metadata": {},
   "source": [
    "Python divides the operators in the following groups:\n",
    "1. Arithmetic Operators\n",
    "2. Assignment Operators \n",
    "3. Comparison Operators \n",
    "4. Logical Operators \n",
    "5. Identity Operators\n",
    "6. Membership Operators\n",
    "7. Bitwise Operators\n",
    "    "
   ]
  },
  {
   "cell_type": "markdown",
   "id": "6b7ece19",
   "metadata": {},
   "source": [
    "### Arithmetic Operators\n",
    "\n",
    "Arithmetic operators are used with numeric values to perform common mathematical operations:\n",
    "\n",
    "| Operator | Name           | Example  |\n",
    "|----------|----------------|----------|\n",
    "| +        | Addition       | x + y    |\n",
    "| -        | Subtraction    | x - y    |\n",
    "| *        | Multiplication | x * y    |\n",
    "| /        | Division       | x / y    |\n",
    "| %        | Modulus        | x % y    |\n",
    "| **       | Exponentiation | x ** y   |\n",
    "| //       | Floor division | x // y   |\n"
   ]
  },
  {
   "cell_type": "markdown",
   "id": "fa37619c",
   "metadata": {},
   "source": [
    "For Example:"
   ]
  },
  {
   "cell_type": "code",
   "execution_count": 2,
   "id": "f2fd618f",
   "metadata": {},
   "outputs": [],
   "source": [
    "#Define two variables\n",
    "x=10\n",
    "y=3\n"
   ]
  },
  {
   "cell_type": "code",
   "execution_count": 3,
   "id": "29b2c778",
   "metadata": {},
   "outputs": [
    {
     "name": "stdout",
     "output_type": "stream",
     "text": [
      "10 + 3 = 13\n"
     ]
    }
   ],
   "source": [
    "#Addition\n",
    "add=x + y\n",
    "print(f\"{x} + {y} =\", add)"
   ]
  },
  {
   "cell_type": "code",
   "execution_count": 4,
   "id": "68a5a117",
   "metadata": {},
   "outputs": [
    {
     "name": "stdout",
     "output_type": "stream",
     "text": [
      "10 - 3 = 7\n"
     ]
    }
   ],
   "source": [
    "#Subtraction\n",
    "sub= x-y\n",
    "print(f\"{x} - {y} =\", sub)"
   ]
  },
  {
   "cell_type": "code",
   "execution_count": 5,
   "id": "efc62d5a",
   "metadata": {},
   "outputs": [
    {
     "name": "stdout",
     "output_type": "stream",
     "text": [
      "10 * 3 = 30\n"
     ]
    }
   ],
   "source": [
    "#Multiplication\n",
    "mul= x*y\n",
    "print(f\"{x} * {y} =\", mul)"
   ]
  },
  {
   "cell_type": "code",
   "execution_count": 6,
   "id": "69e19b39",
   "metadata": {},
   "outputs": [
    {
     "name": "stdout",
     "output_type": "stream",
     "text": [
      "10 / 3 = 3.3333333333333335\n"
     ]
    }
   ],
   "source": [
    "#Division\n",
    "div = x/y\n",
    "print(f\"{x} / {y} =\", div)"
   ]
  },
  {
   "cell_type": "code",
   "execution_count": 9,
   "id": "4553e605",
   "metadata": {},
   "outputs": [
    {
     "name": "stdout",
     "output_type": "stream",
     "text": [
      "10 % 3 = 1\n"
     ]
    }
   ],
   "source": [
    "#Modulus\n",
    "mod= x%y\n",
    "print(f\"{x} % {y} =\", mod)"
   ]
  },
  {
   "cell_type": "code",
   "execution_count": 10,
   "id": "b08f731f",
   "metadata": {},
   "outputs": [
    {
     "name": "stdout",
     "output_type": "stream",
     "text": [
      "10 ** 3 = 1000\n"
     ]
    }
   ],
   "source": [
    "#Exponentiation\n",
    "exp= x ** y\n",
    "print(f\"{x} ** {y} =\", exp)"
   ]
  },
  {
   "cell_type": "code",
   "execution_count": 11,
   "id": "a8f33928",
   "metadata": {},
   "outputs": [
    {
     "name": "stdout",
     "output_type": "stream",
     "text": [
      "10 // 3 = 3\n"
     ]
    }
   ],
   "source": [
    "#Floor Division\n",
    "flr_div = x // y\n",
    "print(f\"{x} // {y} =\", flr_div)"
   ]
  },
  {
   "cell_type": "markdown",
   "id": "90fab167",
   "metadata": {},
   "source": [
    "### Assignment Operators\n",
    "\n",
    "Assignment operators are used to assign values to variables:\n",
    "\n",
    "| Operator | Example        | Same As        |\n",
    "|----------|----------------|----------------|\n",
    "| =        | x = 5          | x = 5          |\n",
    "| +=       | x += 3         | x = x + 3      |\n",
    "| -=       | x -= 3         | x = x - 3      |\n",
    "| *=       | x *= 3         | x = x * 3      |\n",
    "| /=       | x /= 3         | x = x / 3      |\n",
    "| %=       | x %= 3         | x = x % 3      |\n",
    "| //=      | x //= 3        | x = x // 3     |\n",
    "| **=      | x **= 3        | x = x ** 3     |\n",
    "\n"
   ]
  },
  {
   "cell_type": "markdown",
   "id": "3fff0733",
   "metadata": {},
   "source": [
    "For example:"
   ]
  },
  {
   "cell_type": "code",
   "execution_count": 21,
   "id": "27d811d1",
   "metadata": {},
   "outputs": [
    {
     "name": "stdout",
     "output_type": "stream",
     "text": [
      "x=5\n"
     ]
    }
   ],
   "source": [
    "#Declare an initial value\n",
    "x = 5\n",
    "print(f'x={x}')"
   ]
  },
  {
   "cell_type": "code",
   "execution_count": 22,
   "id": "2cd4e8e3",
   "metadata": {},
   "outputs": [
    {
     "name": "stdout",
     "output_type": "stream",
     "text": [
      "x += 3 = 8\n"
     ]
    }
   ],
   "source": [
    "#Add and assign\n",
    "x +=3\n",
    "print(f\"x += 3 = {x}\")"
   ]
  },
  {
   "cell_type": "code",
   "execution_count": 23,
   "id": "2c7ab42b",
   "metadata": {},
   "outputs": [
    {
     "name": "stdout",
     "output_type": "stream",
     "text": [
      "x -= 3 = 5\n"
     ]
    }
   ],
   "source": [
    "#Subtract and assign\n",
    "x-=3\n",
    "print(f\"x -= 3 = {x}\")"
   ]
  },
  {
   "cell_type": "code",
   "execution_count": 24,
   "id": "12866347",
   "metadata": {},
   "outputs": [
    {
     "name": "stdout",
     "output_type": "stream",
     "text": [
      "x *=3 = 15\n"
     ]
    }
   ],
   "source": [
    "#Multiply and assign\n",
    "x*=3\n",
    "print(f\"x *=3 = {x}\")"
   ]
  },
  {
   "cell_type": "code",
   "execution_count": 25,
   "id": "a06f652a",
   "metadata": {},
   "outputs": [
    {
     "name": "stdout",
     "output_type": "stream",
     "text": [
      " x/=3 = 5.0\n"
     ]
    }
   ],
   "source": [
    "#Divide and multiply\n",
    "x /=3\n",
    "print(f\" x/=3 = {x}\")"
   ]
  },
  {
   "cell_type": "code",
   "execution_count": 27,
   "id": "893c2f9e",
   "metadata": {},
   "outputs": [
    {
     "name": "stdout",
     "output_type": "stream",
     "text": [
      " x %= 3 = 2.0\n"
     ]
    }
   ],
   "source": [
    "#Modulus and assign\n",
    "x %= 3\n",
    "print(f\" x %= 3 = {x}\")"
   ]
  },
  {
   "cell_type": "code",
   "execution_count": 28,
   "id": "1ee3994a",
   "metadata": {},
   "outputs": [
    {
     "name": "stdout",
     "output_type": "stream",
     "text": [
      "x //= 3 -> 1\n"
     ]
    }
   ],
   "source": [
    "# Floor divide and assign\n",
    "x = 5  # Resetting x to 5 for further operations\n",
    "x //= 3\n",
    "print(f\"x //= 3 -> {x}\")"
   ]
  },
  {
   "cell_type": "code",
   "execution_count": 29,
   "id": "da2f038a",
   "metadata": {},
   "outputs": [
    {
     "name": "stdout",
     "output_type": "stream",
     "text": [
      "x **= 3 -> 1\n"
     ]
    }
   ],
   "source": [
    "# Exponentiate and assign\n",
    "x **= 3\n",
    "print(f\"x **= 3 -> {x}\")\n"
   ]
  },
  {
   "cell_type": "markdown",
   "id": "729493bf",
   "metadata": {},
   "source": [
    "### Comparison Operators\n",
    "\n",
    "Comparison opertors are used to compare two values:\n",
    "\n",
    "| Operator | Name                       | Example      |\n",
    "|----------|----------------------------|--------------|\n",
    "| ==       | Equal                      | x == y       |\n",
    "| !=       | Not equal                  | x != y       |\n",
    "| >        | Greater than               | x > y        |\n",
    "| <        | Less than                  | x < y        |\n",
    "| >=       | Greater than or equal to   | x >= y       |\n",
    "| <=       | Less than or equal to      | x <= y       |\n"
   ]
  },
  {
   "cell_type": "markdown",
   "id": "023b5086",
   "metadata": {},
   "source": [
    "For example:"
   ]
  },
  {
   "cell_type": "code",
   "execution_count": 36,
   "id": "b59d75a5",
   "metadata": {},
   "outputs": [],
   "source": [
    "#Define variables\n",
    "x=30\n",
    "y=2"
   ]
  },
  {
   "cell_type": "code",
   "execution_count": 37,
   "id": "4af5255f",
   "metadata": {},
   "outputs": [
    {
     "name": "stdout",
     "output_type": "stream",
     "text": [
      "30 == 2 -> False\n"
     ]
    }
   ],
   "source": [
    "# Equal\n",
    "equal = x == y\n",
    "print(f\"{x} == {y} -> {equal}\")"
   ]
  },
  {
   "cell_type": "code",
   "execution_count": 38,
   "id": "c82ff87e",
   "metadata": {},
   "outputs": [
    {
     "name": "stdout",
     "output_type": "stream",
     "text": [
      "30 != 2 -> True\n"
     ]
    }
   ],
   "source": [
    "# Not equal\n",
    "not_equal = x != y\n",
    "print(f\"{x} != {y} -> {not_equal}\")"
   ]
  },
  {
   "cell_type": "code",
   "execution_count": 39,
   "id": "3145a654",
   "metadata": {},
   "outputs": [
    {
     "name": "stdout",
     "output_type": "stream",
     "text": [
      "30 > 2 -> True\n"
     ]
    }
   ],
   "source": [
    "# Greater than\n",
    "greater_than = x > y\n",
    "print(f\"{x} > {y} -> {greater_than}\")"
   ]
  },
  {
   "cell_type": "code",
   "execution_count": 40,
   "id": "02ce8b77",
   "metadata": {},
   "outputs": [
    {
     "name": "stdout",
     "output_type": "stream",
     "text": [
      "30 < 2 -> False\n"
     ]
    }
   ],
   "source": [
    "# Less than\n",
    "less_than = x < y\n",
    "print(f\"{x} < {y} -> {less_than}\")"
   ]
  },
  {
   "cell_type": "code",
   "execution_count": 41,
   "id": "d47b5d7d",
   "metadata": {
    "scrolled": true
   },
   "outputs": [
    {
     "name": "stdout",
     "output_type": "stream",
     "text": [
      "30 >= 2 -> True\n"
     ]
    }
   ],
   "source": [
    "# Greater than or equal to\n",
    "greater_than_equal = x >= y\n",
    "print(f\"{x} >= {y} -> {greater_than_equal}\")"
   ]
  },
  {
   "cell_type": "code",
   "execution_count": 42,
   "id": "72448207",
   "metadata": {},
   "outputs": [
    {
     "name": "stdout",
     "output_type": "stream",
     "text": [
      "30 <= 2 -> False\n"
     ]
    }
   ],
   "source": [
    "# Less than or equal to\n",
    "less_than_equal = x <= y\n",
    "print(f\"{x} <= {y} -> {less_than_equal}\")"
   ]
  },
  {
   "cell_type": "markdown",
   "id": "81803752",
   "metadata": {},
   "source": [
    "### Logical Operators\n",
    "\n",
    "Logical operators are used to combine conditional statements:\n",
    "\n",
    "| Operator | Description                                 | Example                     |\n",
    "|----------|---------------------------------------------|-----------------------------|\n",
    "| and      | Returns True if both statements are true    | x < 5 and x < 10            |\n",
    "| or       | Returns True if one of the statements is true| x < 5 or x < 4              |\n",
    "| not      | Reverses the result, returns False if the result is true | not(x < 5 and x < 10) |\n"
   ]
  },
  {
   "cell_type": "code",
   "execution_count": 43,
   "id": "99873b4f",
   "metadata": {},
   "outputs": [],
   "source": [
    "# Define variables\n",
    "x = 3"
   ]
  },
  {
   "cell_type": "code",
   "execution_count": 44,
   "id": "c67c2aff",
   "metadata": {
    "scrolled": true
   },
   "outputs": [
    {
     "name": "stdout",
     "output_type": "stream",
     "text": [
      "3 < 5 and 3 < 10 -> True\n"
     ]
    }
   ],
   "source": [
    "# Logical AND\n",
    "and_result = x < 5 and x < 10\n",
    "print(f\"{x} < 5 and {x} < 10 -> {and_result}\")"
   ]
  },
  {
   "cell_type": "code",
   "execution_count": 45,
   "id": "9a3057fe",
   "metadata": {
    "scrolled": true
   },
   "outputs": [
    {
     "name": "stdout",
     "output_type": "stream",
     "text": [
      "3 < 5 or 3 < 4 -> True\n"
     ]
    }
   ],
   "source": [
    "# Logical OR\n",
    "or_result = x < 5 or x < 4\n",
    "print(f\"{x} < 5 or {x} < 4 -> {or_result}\")"
   ]
  },
  {
   "cell_type": "code",
   "execution_count": 46,
   "id": "d397f26c",
   "metadata": {},
   "outputs": [
    {
     "name": "stdout",
     "output_type": "stream",
     "text": [
      "not(3 < 5 and 3 < 10) -> False\n"
     ]
    }
   ],
   "source": [
    "# Logical NOT\n",
    "not_result = not (x < 5 and x < 10)\n",
    "print(f\"not({x} < 5 and {x} < 10) -> {not_result}\")"
   ]
  },
  {
   "cell_type": "markdown",
   "id": "23c31592",
   "metadata": {},
   "source": [
    "### Identity Operators\n",
    "\n",
    "Identity operators are used to compare the objects, not if they are equal, but if they are actually the same object, with the same memory location.\n",
    "\n",
    "| Operator | Description                                     | Example       |\n",
    "|----------|-------------------------------------------------|---------------|\n",
    "| is       | Returns True if both variables are the same object | x is y       |\n",
    "| is not   | Returns True if both variables are not the same object | x is not y |\n"
   ]
  },
  {
   "cell_type": "code",
   "execution_count": 47,
   "id": "16410444",
   "metadata": {},
   "outputs": [],
   "source": [
    "# Define variables\n",
    "x = [1, 2, 3]\n",
    "y = x\n",
    "z = [1, 2, 3]"
   ]
  },
  {
   "cell_type": "code",
   "execution_count": 49,
   "id": "cc40f386",
   "metadata": {},
   "outputs": [
    {
     "name": "stdout",
     "output_type": "stream",
     "text": [
      "x is y -> True\n"
     ]
    }
   ],
   "source": [
    "#is operator\n",
    "is_result = x is y\n",
    "print(f\"x is y -> {is_result}\")"
   ]
  },
  {
   "cell_type": "code",
   "execution_count": 50,
   "id": "13ad660a",
   "metadata": {},
   "outputs": [
    {
     "name": "stdout",
     "output_type": "stream",
     "text": [
      "x is not z -> True\n"
     ]
    }
   ],
   "source": [
    "# is not operator\n",
    "is_not_result = x is not z\n",
    "print(f\"x is not z -> {is_not_result}\")"
   ]
  },
  {
   "cell_type": "markdown",
   "id": "ed37f044",
   "metadata": {},
   "source": [
    "### Membership Operators\n",
    "\n",
    "Membership operators are used to test if a sequence is presented in an object.\n",
    "\n",
    "| Operator | Description                                                     | Example     |\n",
    "|----------|-----------------------------------------------------------------|-------------|\n",
    "| in       | Returns True if a sequence with the specified value is present in the object | x in y     |\n",
    "| not in   | Returns True if a sequence with the specified value is not present in the object | x not in y |\n"
   ]
  },
  {
   "cell_type": "code",
   "execution_count": 51,
   "id": "f7bebe96",
   "metadata": {},
   "outputs": [],
   "source": [
    "# Define variables\n",
    "x = 2\n",
    "y = [1, 2, 3, 4, 5]"
   ]
  },
  {
   "cell_type": "code",
   "execution_count": 52,
   "id": "c9ccb89e",
   "metadata": {},
   "outputs": [
    {
     "name": "stdout",
     "output_type": "stream",
     "text": [
      "2 in [1, 2, 3, 4, 5] -> True\n"
     ]
    }
   ],
   "source": [
    "# in operator\n",
    "in_result = x in y\n",
    "print(f\"{x} in {y} -> {in_result}\")"
   ]
  },
  {
   "cell_type": "code",
   "execution_count": 53,
   "id": "cb26fd58",
   "metadata": {},
   "outputs": [
    {
     "name": "stdout",
     "output_type": "stream",
     "text": [
      "2 not in [1, 2, 3, 4, 5] -> False\n"
     ]
    }
   ],
   "source": [
    "# not in operator\n",
    "not_in_result = x not in y\n",
    "print(f\"{x} not in {y} -> {not_in_result}\")"
   ]
  },
  {
   "cell_type": "markdown",
   "id": "463fe6d9",
   "metadata": {},
   "source": [
    "### Bitwise Operator\n",
    "\n",
    "Bitwise operators are used to compare (binary) numbers.\n",
    "\n",
    "| Operator | Name                   | Description                                                                                     | Example   |\n",
    "|----------|------------------------|-------------------------------------------------------------------------------------------------|-----------|\n",
    "| &        | AND                    | Sets each bit to 1 if both bits are 1                                                           | x & y     |\n",
    "| |        | OR                     | Sets each bit to 1 if one of two bits is 1                                                      | x | y     |\n",
    "| ^        | XOR                    | Sets each bit to 1 if only one of two bits is 1                                                 | x ^ y     |\n",
    "| ~        | NOT                    | Inverts all the bits                                                                            | ~x        |\n",
    "| <<       | Zero fill left shift   | Shift left by pushing zeros in from the right and let the leftmost bits fall off                | x << 2    |\n",
    "| >>       | Signed right shift     | Shift right by pushing copies of the leftmost bit in from the left, and let the rightmost bits fall off | x >> 2    |\n"
   ]
  },
  {
   "cell_type": "code",
   "execution_count": 54,
   "id": "57d3d5b1",
   "metadata": {},
   "outputs": [],
   "source": [
    "# Define variables\n",
    "x = 10  # 1010 in binary\n",
    "y = 4   # 0100 in binary"
   ]
  },
  {
   "cell_type": "code",
   "execution_count": 55,
   "id": "2abad6b0",
   "metadata": {},
   "outputs": [
    {
     "name": "stdout",
     "output_type": "stream",
     "text": [
      "10 & 4 -> 0\n"
     ]
    }
   ],
   "source": [
    "# Bitwise AND\n",
    "and_result = x & y\n",
    "print(f\"{x} & {y} -> {and_result}\")"
   ]
  },
  {
   "cell_type": "code",
   "execution_count": 56,
   "id": "e1f65757",
   "metadata": {},
   "outputs": [
    {
     "name": "stdout",
     "output_type": "stream",
     "text": [
      "10 | 4 -> 14\n"
     ]
    }
   ],
   "source": [
    "# Bitwise OR\n",
    "or_result = x | y\n",
    "print(f\"{x} | {y} -> {or_result}\")"
   ]
  },
  {
   "cell_type": "code",
   "execution_count": 57,
   "id": "5131f686",
   "metadata": {},
   "outputs": [
    {
     "name": "stdout",
     "output_type": "stream",
     "text": [
      "10 ^ 4 -> 14\n"
     ]
    }
   ],
   "source": [
    "# Bitwise XOR\n",
    "xor_result = x ^ y\n",
    "print(f\"{x} ^ {y} -> {xor_result}\")"
   ]
  },
  {
   "cell_type": "code",
   "execution_count": 58,
   "id": "6e8a9157",
   "metadata": {},
   "outputs": [
    {
     "name": "stdout",
     "output_type": "stream",
     "text": [
      "~10 -> -11\n"
     ]
    }
   ],
   "source": [
    "# Bitwise NOT\n",
    "not_result = ~x\n",
    "print(f\"~{x} -> {not_result}\")"
   ]
  },
  {
   "cell_type": "code",
   "execution_count": 59,
   "id": "b3f54c23",
   "metadata": {},
   "outputs": [
    {
     "name": "stdout",
     "output_type": "stream",
     "text": [
      "10 << 2 -> 40\n"
     ]
    }
   ],
   "source": [
    "# Zero fill left shift\n",
    "left_shift_result = x << 2\n",
    "print(f\"{x} << 2 -> {left_shift_result}\")"
   ]
  },
  {
   "cell_type": "code",
   "execution_count": 60,
   "id": "055ee619",
   "metadata": {},
   "outputs": [
    {
     "name": "stdout",
     "output_type": "stream",
     "text": [
      "10 >> 2 -> 2\n"
     ]
    }
   ],
   "source": [
    "# Signed right shift\n",
    "right_shift_result = x >> 2\n",
    "print(f\"{x} >> 2 -> {right_shift_result}\")"
   ]
  },
  {
   "cell_type": "markdown",
   "id": "6ac70c9c",
   "metadata": {},
   "source": [
    "Understanding operators in Python is crucial for performing various operations on variables and values efficiently. These operators allow you to execute arithmetic calculations, assign values, compare data and manipulate binary data, making them fundamental tools in Python programming."
   ]
  },
  {
   "cell_type": "markdown",
   "id": "fbf18ce5",
   "metadata": {},
   "source": [
    "## Importance of Operators\n",
    "Operators are the building blocks of any programming language, including Python. They enable you to:\n",
    "\n",
    "* **Perform Calculations**: Handle arithmetic operations and mathematical functions.\n",
    "* **Manage Data**: Compare, assign, and manipulate variables effectively.\n",
    "* **Control Flow**: Make decisions in your code based on comparisons and logical operations.\n",
    "* **Optimize Code**: Write concise and efficient code with bitwise and assignment operators.\n",
    "\n",
    "Understanding and mastering these operators will enhance your ability to write robust and efficient Python programs."
   ]
  },
  {
   "cell_type": "markdown",
   "id": "b1f85a2b",
   "metadata": {},
   "source": [
    "### Contact and Support\n",
    "If you have any questions or need further assistance, feel free to reach out to me at shikhakumari13498@gmail.com. \n",
    "\n",
    "I’m here to help and guide you through your learning process.\n",
    "\n",
    "Happy coding!"
   ]
  }
 ],
 "metadata": {
  "kernelspec": {
   "display_name": "Python 3 (ipykernel)",
   "language": "python",
   "name": "python3"
  },
  "language_info": {
   "codemirror_mode": {
    "name": "ipython",
    "version": 3
   },
   "file_extension": ".py",
   "mimetype": "text/x-python",
   "name": "python",
   "nbconvert_exporter": "python",
   "pygments_lexer": "ipython3",
   "version": "3.9.13"
  }
 },
 "nbformat": 4,
 "nbformat_minor": 5
}
