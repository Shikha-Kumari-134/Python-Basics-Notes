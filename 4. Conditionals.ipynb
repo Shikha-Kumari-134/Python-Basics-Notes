{
 "cells": [
  {
   "cell_type": "markdown",
   "id": "ede5367a",
   "metadata": {},
   "source": [
    "# Conditional Statements in Python"
   ]
  },
  {
   "cell_type": "markdown",
   "id": "7f72fcf6",
   "metadata": {},
   "source": [
    "Conditional statements in Python allow you to execute different blocks of code based o specific conditions. These conditions typically involve comparisons and logic operations, which determine the flow of execution in a program. \n",
    "\n",
    "Understanding and using conditional statements is fundamental for making decisions and controlling the execution of a program."
   ]
  },
  {
   "cell_type": "markdown",
   "id": "8a0b4f2c",
   "metadata": {},
   "source": [
    "## Types of Conditional Statements\n",
    "\n",
    "Python provides several types of conditional statements:\n",
    "\n",
    "* 'if' Statement\n",
    "* 'if-else' statement\n",
    "* 'if-elif-else' statement\n",
    "* Nested 'if' statements"
   ]
  },
  {
   "cell_type": "markdown",
   "id": "1657a280",
   "metadata": {},
   "source": [
    "### 'if' statement\n",
    "\n",
    "The 'if' statement allows you to test a condition and execute a block if the condition is true.\n",
    "\n",
    "##### Syntax: \n",
    "\n",
    "if condition:  \n",
    "&nbsp;&nbsp;&nbsp;&nbsp;#Code to execute if condition is true\n",
    "   "
   ]
  },
  {
   "cell_type": "code",
   "execution_count": 1,
   "id": "c3e2355f",
   "metadata": {},
   "outputs": [
    {
     "name": "stdout",
     "output_type": "stream",
     "text": [
      "x is greater than 5\n"
     ]
    }
   ],
   "source": [
    "#Example\n",
    "\n",
    "x=10\n",
    "if x>5:\n",
    "    print(\"x is greater than 5\")"
   ]
  },
  {
   "cell_type": "markdown",
   "id": "f2268618",
   "metadata": {},
   "source": [
    "### 'if - else' statement\n",
    "\n",
    "The 'if-else' statement allows you to execute oe block of code if the condition is true and another block if the condition is false.\n",
    "\n",
    "##### Syntax: \n",
    "\n",
    "if condition:  \n",
    "&nbsp;&nbsp;&nbsp;&nbsp; #Code to execute if condition is true  \n",
    "else:  \n",
    "&nbsp;&nbsp;&nbsp;&nbsp;#Code to execute if condition is false"
   ]
  },
  {
   "cell_type": "code",
   "execution_count": 2,
   "id": "32460a02",
   "metadata": {},
   "outputs": [
    {
     "name": "stdout",
     "output_type": "stream",
     "text": [
      "x is not greater than 15\n"
     ]
    }
   ],
   "source": [
    "x = 10\n",
    "if x > 15:\n",
    "    print(\"x is greater than 15\")\n",
    "else:\n",
    "    print(\"x is not greater than 15\")\n"
   ]
  },
  {
   "cell_type": "markdown",
   "id": "b6c30921",
   "metadata": {},
   "source": [
    "### 'if-elif-else' statement\n",
    "\n",
    "The 'if-elif-else' statement allows you to test multiple conditions sequentially, executing the corresponding block of code for the first true condition. If none of the conditions are true, the 'else' block is executed."
   ]
  },
  {
   "cell_type": "markdown",
   "id": "6622030f",
   "metadata": {},
   "source": [
    "##### Syntax\n",
    "\n",
    "if condition1:  \n",
    "&nbsp;&nbsp;&nbsp;&nbsp;# code to execute if condition1 is true  \n",
    "elif condition2:  \n",
    "&nbsp;&nbsp;&nbsp;&nbsp;# code to execute if condition2 is true  \n",
    "else:  \n",
    "&nbsp;&nbsp;&nbsp;&nbsp;# code to execute if none of the conditions are true\n"
   ]
  },
  {
   "cell_type": "code",
   "execution_count": 3,
   "id": "33b6695f",
   "metadata": {},
   "outputs": [
    {
     "name": "stdout",
     "output_type": "stream",
     "text": [
      "x is greater than 5 but less than or equal to 15\n"
     ]
    }
   ],
   "source": [
    "x = 10\n",
    "if x > 15:\n",
    "    print(\"x is greater than 15\")\n",
    "elif x > 5:\n",
    "    print(\"x is greater than 5 but less than or equal to 15\")\n",
    "else:\n",
    "    print(\"x is 5 or less\")\n"
   ]
  },
  {
   "cell_type": "markdown",
   "id": "773febab",
   "metadata": {},
   "source": [
    "### Nested if Statements\n",
    "\n",
    "Nested 'if' statements are 'if' statements within another 'if' statement. They allow you to test multiple conditions in a hierarchical manner.\n",
    "\n",
    "##### Syntax:\n",
    "\n",
    "if condition1:  \n",
    "&nbsp;&nbsp;&nbsp;&nbsp;if condition2:  \n",
    "&nbsp;&nbsp;&nbsp;&nbsp;&nbsp;&nbsp;&nbsp;&nbsp;# code to execute if both condition1 and condition2 are true  \n",
    "&nbsp;&nbsp;&nbsp;&nbsp;else:  \n",
    "&nbsp;&nbsp;&nbsp;&nbsp;&nbsp;&nbsp;&nbsp;&nbsp;# code to execute if condition1 is true but condition2 is false  \n",
    "else:  \n",
    "&nbsp;&nbsp;&nbsp;&nbsp;# code to execute if condition1 is false\n"
   ]
  },
  {
   "cell_type": "code",
   "execution_count": 4,
   "id": "ca311fe0",
   "metadata": {},
   "outputs": [
    {
     "name": "stdout",
     "output_type": "stream",
     "text": [
      "x is greater than 5 and y is greater than 3\n"
     ]
    }
   ],
   "source": [
    "x = 10\n",
    "y = 5\n",
    "if x > 5:\n",
    "    if y > 3:\n",
    "        print(\"x is greater than 5 and y is greater than 3\")\n",
    "    else:\n",
    "        print(\"x is greater than 5 but y is not greater than 3\")\n",
    "else:\n",
    "    print(\"x is not greater than 5\")\n"
   ]
  },
  {
   "cell_type": "markdown",
   "id": "1e22bc70",
   "metadata": {},
   "source": [
    "Python also supports a shorthand form of the 'if-else' statement known as the Ternary Operator"
   ]
  },
  {
   "cell_type": "markdown",
   "id": "e4b52a8e",
   "metadata": {},
   "source": [
    "### Ternary Conditional Operator\n",
    "\n",
    "Ternary operator is a one-line shorthand for an if-else statement. It evaluates a condition and returns one value if the condition is true and another value if the condition is false.\n",
    "\n",
    "##### Syntax:\n",
    "\n",
    "variable = value_if_true if condition else value_if_false"
   ]
  },
  {
   "cell_type": "code",
   "execution_count": 5,
   "id": "66c94171",
   "metadata": {},
   "outputs": [
    {
     "name": "stdout",
     "output_type": "stream",
     "text": [
      "greater than 5\n"
     ]
    }
   ],
   "source": [
    "x = 10\n",
    "result = \"greater than 5\" if x > 5 else \"5 or less\"\n",
    "print(result)"
   ]
  },
  {
   "cell_type": "markdown",
   "id": "ff72b182",
   "metadata": {},
   "source": [
    "## Summary\n",
    "\n",
    "Understanding and using conditional statements effectively can greatly enhance the functionality and flexibility of your Python programs. They are essential tools for decision-making and flow control in programming."
   ]
  },
  {
   "cell_type": "markdown",
   "id": "e2c67489",
   "metadata": {},
   "source": [
    "## Importance of Conditional Statements\n",
    "\n",
    "Conditional statements are crucial for controlling the flow of execution in a program. They allow you to:\n",
    "\n",
    "* **Make Decisions**: Execute different code paths based on specific conditions.\n",
    "* **Control Flow**: Direct the flow of program execution to meet specific criteria.\n",
    "* **Handle Different Scenarios**: React to different inputs or states of the program dynamically."
   ]
  },
  {
   "cell_type": "markdown",
   "id": "748ad4eb",
   "metadata": {},
   "source": [
    "### Contact and Support\n",
    "If you have any questions or need further assistance, feel free to reach out to me at shikhakumari13498@gmail.com. \n",
    "\n",
    "I’m here to help and guide you through your learning process.\n",
    "\n",
    "Happy coding!"
   ]
  }
 ],
 "metadata": {
  "kernelspec": {
   "display_name": "Python 3 (ipykernel)",
   "language": "python",
   "name": "python3"
  },
  "language_info": {
   "codemirror_mode": {
    "name": "ipython",
    "version": 3
   },
   "file_extension": ".py",
   "mimetype": "text/x-python",
   "name": "python",
   "nbconvert_exporter": "python",
   "pygments_lexer": "ipython3",
   "version": "3.9.13"
  }
 },
 "nbformat": 4,
 "nbformat_minor": 5
}
